{
 "cells": [
  {
   "cell_type": "code",
   "execution_count": 1,
   "id": "7f8dc00d",
   "metadata": {
    "_cell_guid": "b1076dfc-b9ad-4769-8c92-a6c4dae69d19",
    "_uuid": "8f2839f25d086af736a60e9eeb907d3b93b6e0e5",
    "execution": {
     "iopub.execute_input": "2025-04-11T18:31:24.211788Z",
     "iopub.status.busy": "2025-04-11T18:31:24.211470Z",
     "iopub.status.idle": "2025-04-11T18:31:24.217833Z",
     "shell.execute_reply": "2025-04-11T18:31:24.216817Z"
    },
    "papermill": {
     "duration": 0.011923,
     "end_time": "2025-04-11T18:31:24.219531",
     "exception": false,
     "start_time": "2025-04-11T18:31:24.207608",
     "status": "completed"
    },
    "tags": []
   },
   "outputs": [],
   "source": [
    "# import os\n",
    "# import json\n",
    "# import random\n",
    "# import shutil\n",
    "# from collections import defaultdict\n",
    "\n",
    "# # --- Configuration Paths ---\n",
    "# VIDEO_DIR = \"/kaggle/input/ucaucf-crime-annotation-dataset/UCF_Crimes/UCF_Crimes/Videos\"\n",
    "# ANNOTATION_JSON_PATH = \"/kaggle/input/ucaucf-crime-annotation-dataset/UCFCrime_Train.json\"  # Adjust if different\n",
    "# OUTPUT_DIR = \"/kaggle/working/sampled_ucf_videos\"\n",
    "# OUTPUT_JSON_PATH =  \"sampled_annotations.json\"\n",
    "\n",
    "# # Optionally, set a seed for reproducibility:\n",
    "# random.seed(42)\n",
    "\n",
    "# # --- Load the Annotations JSON ---\n",
    "# with open(ANNOTATION_JSON_PATH, \"r\") as f:\n",
    "#     annotations = json.load(f)\n",
    "\n",
    "# # --- Organize Videos by Category ---\n",
    "# # This dictionary maps category to a list of video keys from the annotations file.\n",
    "# # It assumes the video names start with the category name.\n",
    "# category_videos = defaultdict(list)\n",
    "# available_categories = os.listdir(VIDEO_DIR)\n",
    "# for video_name in annotations:\n",
    "#     for category in available_categories:\n",
    "#         if video_name.startswith(category):\n",
    "#             category_videos[category].append(video_name)\n",
    "#             break\n",
    "\n",
    "# # --- Sampling and Copying Videos ---\n",
    "# # Create output directory if it doesn't already exist.\n",
    "# os.makedirs(OUTPUT_DIR, exist_ok=True)\n",
    "# sampled_data = {}\n",
    "\n",
    "# for category, videos in category_videos.items():\n",
    "#     # Sample 50 videos from each category (or all videos if fewer than 50)\n",
    "#     sample_count = min(50, len(videos))\n",
    "#     sampled = random.sample(videos, sample_count)\n",
    "    \n",
    "#     for video_name in sampled:\n",
    "#         # Adjust the extension if needed; here, we assume .mp4.\n",
    "#         video_file = video_name + \".mp4\"\n",
    "#         # The source path is in a subfolder named by its category.\n",
    "#         src_video_path = os.path.join(VIDEO_DIR, category, video_file)\n",
    "#         # The destination is a single output folder (no subfolders).\n",
    "#         dst_video_path = os.path.join(OUTPUT_DIR, video_file)\n",
    "        \n",
    "#         if os.path.exists(src_video_path):\n",
    "#             shutil.copy2(src_video_path, dst_video_path)\n",
    "#             # Save the video's metadata from the original annotations.\n",
    "#             sampled_data[video_name] = annotations[video_name]\n",
    "#         else:\n",
    "#             print(f\"Warning: Video file not found: {src_video_path}\")\n",
    "\n",
    "# # --- Save the Sampled Annotations to a New JSON File ---\n",
    "# with open(OUTPUT_JSON_PATH, \"w\") as out_json:\n",
    "#     json.dump(sampled_data, out_json, indent=4)\n",
    "\n",
    "# print(f\"✅ Sampling complete! All videos saved in: {OUTPUT_DIR}\")\n",
    "# print(f\"✅ New JSON annotations file created at: {OUTPUT_JSON_PATH}\")\n"
   ]
  },
  {
   "cell_type": "code",
   "execution_count": null,
   "id": "5c7f2030",
   "metadata": {
    "execution": {
     "iopub.execute_input": "2025-04-11T18:08:58.145337Z",
     "iopub.status.busy": "2025-04-11T18:08:58.144763Z",
     "iopub.status.idle": "2025-04-11T18:08:58.203907Z",
     "shell.execute_reply": "2025-04-11T18:08:58.202323Z",
     "shell.execute_reply.started": "2025-04-11T18:08:58.145299Z"
    },
    "papermill": {
     "duration": 0.00174,
     "end_time": "2025-04-11T18:31:24.223611",
     "exception": false,
     "start_time": "2025-04-11T18:31:24.221871",
     "status": "completed"
    },
    "tags": []
   },
   "outputs": [],
   "source": [
    "\n",
    "    "
   ]
  },
  {
   "cell_type": "code",
   "execution_count": 2,
   "id": "137fe2ab",
   "metadata": {
    "execution": {
     "iopub.execute_input": "2025-04-11T18:31:24.228647Z",
     "iopub.status.busy": "2025-04-11T18:31:24.228330Z",
     "iopub.status.idle": "2025-04-11T18:35:42.903741Z",
     "shell.execute_reply": "2025-04-11T18:35:42.902349Z"
    },
    "papermill": {
     "duration": 258.686443,
     "end_time": "2025-04-11T18:35:42.911861",
     "exception": false,
     "start_time": "2025-04-11T18:31:24.225418",
     "status": "completed"
    },
    "tags": []
   },
   "outputs": [
    {
     "name": "stdout",
     "output_type": "stream",
     "text": [
      "✅ Sampling complete! All videos are saved in: /kaggle/working/sampled_ucf_videos\n",
      "✅ New JSON annotations file created at: sampled_annotations.json\n"
     ]
    }
   ],
   "source": [
    "import os\n",
    "import json\n",
    "import random\n",
    "import shutil\n",
    "from collections import defaultdict\n",
    "\n",
    "# --- Configuration Paths ---\n",
    "# Path to video files (each category is expected to be a subfolder under this directory)\n",
    "VIDEO_DIR = \"/kaggle/input/ucaucf-crime-annotation-dataset/UCF_Crimes/UCF_Crimes/Videos\"\n",
    "\n",
    "# Paths to the three annotation JSON files\n",
    "TRAIN_JSON_PATH = \"/kaggle/input/ucaucf-crime-annotation-dataset/UCFCrime_Train.json\"\n",
    "VAL_JSON_PATH   = \"/kaggle/input/ucaucf-crime-annotation-dataset/UCFCrime_Val.json\"\n",
    "TEST_JSON_PATH  = \"/kaggle/input/ucaucf-crime-annotation-dataset/UCFCrime_Test.json\"\n",
    "\n",
    "# Output folder path and JSON file for the sampled annotations\n",
    "OUTPUT_DIR = \"/kaggle/working/sampled_ucf_videos\"\n",
    "OUTPUT_JSON_PATH =  \"sampled_annotations.json\"\n",
    "\n",
    "# Optionally, set a seed for reproducibility:\n",
    "random.seed(42)\n",
    "\n",
    "# --- Load and Combine Annotations ---\n",
    "annotations = {}\n",
    "for json_path in [TRAIN_JSON_PATH, VAL_JSON_PATH, TEST_JSON_PATH]:\n",
    "    with open(json_path, \"r\") as f:\n",
    "        data = json.load(f)\n",
    "        # The keys in each file should be unique. In case of overlap, later files will override earlier ones.\n",
    "        annotations.update(data)\n",
    "\n",
    "# --- Organize Videos by Category ---\n",
    "# This dictionary will map each category (inferred from the video filename prefix)\n",
    "# to the list of video names that belong to that category.\n",
    "category_videos = defaultdict(list)\n",
    "available_categories = os.listdir(VIDEO_DIR)\n",
    "\n",
    "for video_name in annotations:\n",
    "    for category in available_categories:\n",
    "        # Checking if the video name begins with the category name\n",
    "        if video_name.startswith(category):\n",
    "            category_videos[category].append(video_name)\n",
    "            break\n",
    "\n",
    "# --- Sampling and Copying Videos ---\n",
    "# Create output folder if it doesn't already exist\n",
    "os.makedirs(OUTPUT_DIR, exist_ok=True)\n",
    "sampled_data = {}\n",
    "\n",
    "for category, videos in category_videos.items():\n",
    "    # Sample 50 videos from each category (or all videos if fewer than 50 exist)\n",
    "    sample_count = min(50, len(videos))\n",
    "    sampled = random.sample(videos, sample_count)\n",
    "    \n",
    "    for video_name in sampled:\n",
    "        # Adjust the file extension if needed; here, we assume videos are .mp4\n",
    "        video_file = video_name + \".mp4\"\n",
    "        # The source path is built from the category subfolder inside VIDEO_DIR\n",
    "        src_video_path = os.path.join(VIDEO_DIR, category, video_file)\n",
    "        # All videos will be copied directly into OUTPUT_DIR (no category subfolders)\n",
    "        dst_video_path = os.path.join(OUTPUT_DIR, video_file)\n",
    "        \n",
    "        if os.path.exists(src_video_path):\n",
    "            shutil.copy2(src_video_path, dst_video_path)\n",
    "            # Add the video's metadata from the combined annotations\n",
    "            sampled_data[video_name] = annotations[video_name]\n",
    "        else:\n",
    "            print(f\"Warning: Video file not found: {src_video_path}\")\n",
    "\n",
    "# --- Save the Sampled Annotations to a New JSON File ---\n",
    "with open(OUTPUT_JSON_PATH, \"w\") as out_json:\n",
    "    json.dump(sampled_data, out_json, indent=4)\n",
    "\n",
    "print(f\"✅ Sampling complete! All videos are saved in: {OUTPUT_DIR}\")\n",
    "print(f\"✅ New JSON annotations file created at: {OUTPUT_JSON_PATH}\")\n"
   ]
  },
  {
   "cell_type": "code",
   "execution_count": 3,
   "id": "7218a126",
   "metadata": {
    "execution": {
     "iopub.execute_input": "2025-04-11T18:35:42.919512Z",
     "iopub.status.busy": "2025-04-11T18:35:42.918360Z",
     "iopub.status.idle": "2025-04-11T18:35:42.963630Z",
     "shell.execute_reply": "2025-04-11T18:35:42.962624Z"
    },
    "papermill": {
     "duration": 0.051158,
     "end_time": "2025-04-11T18:35:42.965857",
     "exception": false,
     "start_time": "2025-04-11T18:35:42.914699",
     "status": "completed"
    },
    "tags": []
   },
   "outputs": [],
   "source": [
    "OUTPUT_JSON_PATH =  \"sampled_annotations.json\"\n",
    "# --- Save the Sampled Annotations to a New JSON File ---\n",
    "with open(OUTPUT_JSON_PATH, \"w\") as out_json:\n",
    "    json.dump(sampled_data, out_json, indent=4)"
   ]
  }
 ],
 "metadata": {
  "kaggle": {
   "accelerator": "none",
   "dataSources": [
    {
     "datasetId": 5725956,
     "sourceId": 9426131,
     "sourceType": "datasetVersion"
    }
   ],
   "dockerImageVersionId": 31012,
   "isGpuEnabled": false,
   "isInternetEnabled": true,
   "language": "python",
   "sourceType": "notebook"
  },
  "kernelspec": {
   "display_name": "Python 3",
   "language": "python",
   "name": "python3"
  },
  "language_info": {
   "codemirror_mode": {
    "name": "ipython",
    "version": 3
   },
   "file_extension": ".py",
   "mimetype": "text/x-python",
   "name": "python",
   "nbconvert_exporter": "python",
   "pygments_lexer": "ipython3",
   "version": "3.11.11"
  },
  "papermill": {
   "default_parameters": {},
   "duration": 265.276137,
   "end_time": "2025-04-11T18:35:43.490387",
   "environment_variables": {},
   "exception": null,
   "input_path": "__notebook__.ipynb",
   "output_path": "__notebook__.ipynb",
   "parameters": {},
   "start_time": "2025-04-11T18:31:18.214250",
   "version": "2.6.0"
  }
 },
 "nbformat": 4,
 "nbformat_minor": 5
}
